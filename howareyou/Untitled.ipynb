{
 "cells": [
  {
   "cell_type": "code",
   "execution_count": 1,
   "id": "innocent-niagara",
   "metadata": {},
   "outputs": [],
   "source": [
    "from string import ascii_lowercase\n",
    "from string import digits\n",
    "import pandas as pd\n",
    "import matplotlib.pyplot as plt"
   ]
  },
  {
   "cell_type": "code",
   "execution_count": 2,
   "id": "nonprofit-voluntary",
   "metadata": {},
   "outputs": [],
   "source": [
    "def chranalyze(input_data):\n",
    "    # Converts string to list and combines digits and alphabets into one list\n",
    "    alphanum_list = list(digits) + list(ascii_lowercase)\n",
    "\n",
    "    # Checks if data type is a string and returns informative message. The isinstance() function returns a boolean.\n",
    "    if isinstance(input_data, str) != True:\n",
    "        print(\"Not string\")\n",
    "    else: \n",
    "        print(\"This is a string\")\n",
    "        input_data = str(input_data)\n",
    "\n",
    "    # create an empty dictionary\n",
    "    chranalyzer_dict = {}\n",
    "\n",
    "    # Counts of each alphanumeric character in the user_input are calculated\n",
    "    for char in alphanum_list:\n",
    "        # Counts current character from alphanum_list through input_data\n",
    "        char_count = input_data.count(char)\n",
    "        # Stores character and character count as a dict\n",
    "        char_count_dict = {char: char_count}\n",
    "        # Updates the main charanlyzer dict \n",
    "        chranalyzer_dict.update(char_count_dict)\n",
    "\n",
    "    # Converts dictionary to stored data in table format \n",
    "    chranalyzer_table = pd.DataFrame(chranalyzer_dict.items(), columns=[\"character\" , \"count\"])\n",
    "\n",
    "    # Plots table into bar chart\n",
    "    chranalyzer_plot= chranalyzer_table.plot.bar(x='character', y='count', rot=0)\n",
    "    \n",
    "    # Create a filtered table with only characters that occured and display this in the console\n",
    "    table_with_counts = chranalyzer_table[chranalyzer_table['count'] != 0]\n",
    "    print(table_with_counts)\n",
    "\n",
    "    # Show plot\n",
    "    plt.show()"
   ]
  },
  {
   "cell_type": "code",
   "execution_count": 3,
   "id": "plastic-night",
   "metadata": {},
   "outputs": [
    {
     "name": "stdout",
     "output_type": "stream",
     "text": [
      "Please enter data \n",
      "This is a test to see if this works\n"
     ]
    }
   ],
   "source": [
    "input_data = input(\"Please enter data \\n\").lower()"
   ]
  },
  {
   "cell_type": "code",
   "execution_count": 4,
   "id": "sophisticated-above",
   "metadata": {},
   "outputs": [
    {
     "name": "stdout",
     "output_type": "stream",
     "text": [
      "This is a string\n",
      "   character  count\n",
      "10         a      1\n",
      "14         e      3\n",
      "15         f      1\n",
      "17         h      2\n",
      "18         i      4\n",
      "20         k      1\n",
      "24         o      2\n",
      "27         r      1\n",
      "28         s      6\n",
      "29         t      5\n",
      "32         w      1\n"
     ]
    },
    {
     "data": {
      "image/png": "[encoded data removed]",
      "text/plain": [
       "<Figure size 432x288 with 1 Axes>"
      ]
     },
     "metadata": {
      "needs_background": "light"
     },
     "output_type": "display_data"
    }
   ],
   "source": [
    "chranalyze(input_data)"
   ]
  }
 ],
 "metadata": {
  "kernelspec": {
   "display_name": "Python 3",
   "language": "python",
   "name": "python3"
  },
  "language_info": {
   "codemirror_mode": {
    "name": "ipython",
    "version": 3
   },
   "file_extension": ".py",
   "mimetype": "text/x-python",
   "name": "python",
   "nbconvert_exporter": "python",
   "pygments_lexer": "ipython3",
   "version": "3.8.5"
  }
 },
 "nbformat": 4,
 "nbformat_minor": 5
}
