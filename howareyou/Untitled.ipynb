{
 "cells": [
  {
   "cell_type": "code",
   "execution_count": 1,
   "id": "innocent-niagara",
   "metadata": {},
   "outputs": [],
   "source": [
    "import random"
   ]
  },
  {
   "cell_type": "code",
   "execution_count": 3,
   "id": "nonprofit-voluntary",
   "metadata": {},
   "outputs": [],
   "source": [
    "def howareyou(arg):\n",
    "\t\"\"\"\n",
    "\treturns what ice cream you should eat\n",
    "\t\"\"\"\n",
    "\t# Lists of ice cream flavors\n",
    "\tgoodlist = [\"fudge ice cream\", \"cookie dough ice cream\", \"mint chip ice cream\"]\n",
    "\tbadlist = [\"rocky road ice cream\", \"strawberry ice cream\", \"vanilla ice cream\"]\n",
    "\n",
    "\t# Print what ice cream you should eat\n",
    "\tif arg == \"good\":\n",
    "\t\t\tprint((random.choice(goodlist)))"
   ]
  },
  {
   "cell_type": "code",
   "execution_count": 5,
   "id": "plastic-night",
   "metadata": {},
   "outputs": [
    {
     "data": {
      "text/plain": [
       "<function __main__.howareyou(arg)>"
      ]
     },
     "execution_count": 5,
     "metadata": {},
     "output_type": "execute_result"
    }
   ],
   "source": [
    "howareyou"
   ]
  },
  {
   "cell_type": "code",
   "execution_count": null,
   "id": "sophisticated-above",
   "metadata": {},
   "outputs": [],
   "source": []
  }
 ],
 "metadata": {
  "kernelspec": {
   "display_name": "Python 3",
   "language": "python",
   "name": "python3"
  },
  "language_info": {
   "codemirror_mode": {
    "name": "ipython",
    "version": 3
   },
   "file_extension": ".py",
   "mimetype": "text/x-python",
   "name": "python",
   "nbconvert_exporter": "python",
   "pygments_lexer": "ipython3",
   "version": "3.8.5"
  }
 },
 "nbformat": 4,
 "nbformat_minor": 5
}
