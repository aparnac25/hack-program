{
 "cells": [
  {
   "cell_type": "code",
   "execution_count": 40,
   "id": "italian-montreal",
   "metadata": {},
   "outputs": [
    {
     "name": "stdout",
     "output_type": "stream",
     "text": [
      "Please enter data \n",
      "fdgkajhglksjfghkdalsjhgkasj\n",
      "This is a string\n"
     ]
    },
    {
     "data": {
      "image/png": "[encoded data removed]",
      "text/plain": [
       "<Figure size 432x288 with 1 Axes>"
      ]
     },
     "metadata": {
      "needs_background": "light"
     },
     "output_type": "display_data"
    }
   ],
   "source": [
    "# Chranalyzer: program to analyze characters \n",
    "from string import ascii_lowercase\n",
    "from string import digits\n",
    "import pandas as pd\n",
    "import matplotlib.pyplot as plt\n",
    "\n",
    "def chranalyze(input_data):\n",
    "    # Converts string to list and combines digits and alphabets into one list\n",
    "    alphanum_list = list(digits) + list(ascii_lowercase)\n",
    "\n",
    "    # Checks if data type is a string and returns informative message. The isinstance() function returns a boolean.\n",
    "    if isinstance(input_data, str) != True:\n",
    "        print(\"Not string\")\n",
    "    else: \n",
    "        print(\"This is a string\")\n",
    "        input_data = str(input_data)\n",
    "\n",
    "    # create an empty dictionary\n",
    "    chranalyzer_dict = {}\n",
    "\n",
    "    # Counts of each alphanumeric character in the user_input are calculated\n",
    "    for char in alphanum_list:\n",
    "        # Counts current character from alphanum_list through input_data\n",
    "        char_count = input_data.count(char)\n",
    "        # Stores character and character count as a dict\n",
    "        char_count_dict = {char: char_count}\n",
    "        # Updates the main charanlyzer dict \n",
    "        chranalyzer_dict.update(char_count_dict)\n",
    "\n",
    "    # Converts dictionary to stored data in table format \n",
    "    chranalyzer_table = pd.DataFrame(chranalyzer_dict.items(), columns=[\"character\" , \"count\"])\n",
    "\n",
    "    # Plots table into bar chart\n",
    "    chranalyzer_plot= chranalyzer_table.plot.bar(x='character', y='count', rot=0)\n",
    "\n",
    "    #Returns plot in command line\n",
    "    return plt.show(chranalyzer_plot)\n",
    "\n",
    "# input_data is declared using the input function. The user is prompted to enter data which will return as lowercase. \n",
    "input_data = input(\"Please enter data \\n\").lower()\n",
    "\n",
    "chranalyze(input_data)"
   ]
  },
  {
   "cell_type": "code",
   "execution_count": null,
   "id": "jewish-notification",
   "metadata": {
    "scrolled": true
   },
   "outputs": [],
   "source": []
  },
  {
   "cell_type": "code",
   "execution_count": null,
   "id": "rotary-philadelphia",
   "metadata": {},
   "outputs": [],
   "source": []
  }
 ],
 "metadata": {
  "kernelspec": {
   "display_name": "Python 3",
   "language": "python",
   "name": "python3"
  },
  "language_info": {
   "codemirror_mode": {
    "name": "ipython",
    "version": 3
   },
   "file_extension": ".py",
   "mimetype": "text/x-python",
   "name": "python",
   "nbconvert_exporter": "python",
   "pygments_lexer": "ipython3",
   "version": "3.8.5"
  }
 },
 "nbformat": 4,
 "nbformat_minor": 5
}
